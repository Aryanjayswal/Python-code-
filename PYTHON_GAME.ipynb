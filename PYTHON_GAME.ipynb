{
 "cells": [
  {
   "cell_type": "code",
   "execution_count": 4,
   "id": "a5274437-6f2d-4815-9eb0-645144153743",
   "metadata": {},
   "outputs": [],
   "source": [
    "# BET AMOUNT \n",
    "def bet_amount(money):\n",
    "    while True:\n",
    "        try:\n",
    "            bet = int(input(f\"💸 Enter your bet amount (Available: {money} Rs): \"))\n",
    "            if 0 < bet <= money:\n",
    "                return bet \n",
    "            else:\n",
    "                print(\"Enter an amount greater than 0 and within your available balance.\")\n",
    "        except ValueError:\n",
    "            print(\" Invalid input. Please enter a number.\")\n",
    "# 1 GAME            \n",
    "def ODD_EVEN_GAME(money):\n",
    "     bet = bet_amount(money)\n",
    "     x = int(input(\"Enter a chice EVEN----press 1️⃣ or ODD-----press 2️⃣ \"))\n",
    "     n =r.randint(1,100)\n",
    "     ans=()\n",
    "     print(f\"The number is ----------{n}\")\n",
    "     if n%2==0:\n",
    "        ans = 1\n",
    "     else:\n",
    "        ans=2\n",
    "         \n",
    "     if ans==x:\n",
    "        money = bet  + money\n",
    "        print(\"congratulations you won  \")\n",
    "     else:\n",
    "        money=money-bet\n",
    "        print(\"OPPS YOU LOSS BETTER LUCK\")\n",
    "     print(f\"your updated balnce is 💰 {money}\")    \n",
    "     return money\n",
    "# 2 GAME \n",
    "def HIGHER_LOWER_GAME(money):\n",
    "    bet = bet_amount(money)\n",
    "    n = r.randint(1,100)\n",
    "    print(f\"the number is ----------{n}\")\n",
    "    x = int(input(f\"Enter your prediction next number is HIGHER------press 1️⃣  or LOWER --------- press 2️⃣  THAN {n}\"))\n",
    "    ans = ()\n",
    "    u = r.randint(1,100)\n",
    "    print(f\"The Second number  is ----------{u}\")\n",
    "            \n",
    "    if n<u:\n",
    "        ans = 1\n",
    "    elif n>u:\n",
    "        ans = 2\n",
    "    else:\n",
    "        print(\"Please enter a valid number \")\n",
    "    if ans==x:\n",
    "        money = bet  + money\n",
    "        print(\"congratulations you won  \")\n",
    "    else:\n",
    "        money=money-bet\n",
    "        print(\"OPPS YOU LOSS BETTER LUCK\")\n",
    "    print(f\"your updated balnce is {money}\")    \n",
    "    return money\n",
    "# 3 GAME \n",
    "def TWO_DICE_GAME(money):\n",
    "        bet = bet_amount(money)\n",
    "        n = r.randint(1,6)\n",
    "        x = int(input('''Enter your prediction sum of TWO DICE 🎲,  PRESS ------1️⃣   GREETER THAN [7], PRESS ------2️⃣  LESS THAN [7]  ,   AND  PRESS ------3️⃣    EXACT [7] '''))\n",
    "        ans = ()\n",
    "        u = r.randint(1,6)\n",
    "        print('''        Rolling  a DICE 🎲 ''')\n",
    "        print(f\"the first number is ----------{n}\") \n",
    "        print(f\"the second number is ----------{u}\")\n",
    "        print(f\"the sum of number is ----------{n+u}\")  \n",
    "        if n+u >7:\n",
    "             ans = 1\n",
    "        elif n+u == 7:\n",
    "            ans = 3\n",
    "        else:\n",
    "            ans = 2\n",
    "        if x==ans==1:\n",
    "                    money = bet  + money\n",
    "                    print(\"congratulations you won \")\n",
    "        elif x==ans==2:\n",
    "                    money = bet + money\n",
    "                    print(\"congratulations you won \")\n",
    "        elif x==ans==3:\n",
    "                    money=(money+bet)*9\n",
    "                    print(\"congratulations you won\")\n",
    "        else:\n",
    "            money=money-bet\n",
    "            print(\"OPPS YOU LOSS BETTER LUCK\")\n",
    "        print(f\"your updated balnce is {money}\")    \n",
    "        return money\n",
    "# 4 GAME \n",
    "def FIVE_DICE_GAME(money):\n",
    "            bet = bet_amount(money)\n",
    "            a = r.randint(1,6)\n",
    "            b= r.randint(1,6)\n",
    "            c= r.randint(1,6)\n",
    "            d = r.randint(1,6)\n",
    "            e = r.randint(1,6)\n",
    "            \n",
    "            total = a + b + c + d + e\n",
    "            print(total)\n",
    "            \n",
    "            print(''' ROLLING A DICE -------------------- SUM OF FIVE DICE 🎲 GREATER THAN 18 YOU WIN 🏆 AND SUM IS LESS THAN 18 YOU LOSE  ''')\n",
    "            if total>18:\n",
    "                    money = bet  + money\n",
    "                    print(\"congratulations you won \")\n",
    "                   \n",
    "            \n",
    "            else:\n",
    "                money= money-bet\n",
    "                print(\"OPPS YOU LOSS BETTER LUCK\")\n",
    "            print(f\"your updated balnce is {money}\")    \n",
    "            return money\n",
    "\n",
    "\n",
    "\n",
    "\n",
    "    "
   ]
  },
  {
   "cell_type": "code",
   "execution_count": 6,
   "id": "f367bf03-02c0-4cca-b204-a8489ae714ea",
   "metadata": {},
   "outputs": [
    {
     "name": "stdin",
     "output_type": "stream",
     "text": [
      "DEPOSIT YPUR MONEY {MINIMUM 1000rs REQUIRE } 5000\n",
      "  \n",
      "                    PRESS 1 -------- OOD EVEN GAME\n",
      "                    PRESS 2 -------- HIGHER LOWER GAME \n",
      "                    PRESS 3 -------- TWO DICE 🎲 GAME  \n",
      "                    PRESS 4 -------- FIVE DICE 🎲 GAME  1\n",
      "💸 Enter your bet amount (Available: 5000 Rs):  500\n",
      "Enter a chice EVEN----press 1️⃣ or ODD-----press 2️⃣  1\n"
     ]
    },
    {
     "name": "stdout",
     "output_type": "stream",
     "text": [
      "The number is ----------21\n",
      "OPPS YOU LOSS BETTER LUCK\n",
      "your updated balnce is 💰 4500\n"
     ]
    },
    {
     "name": "stdin",
     "output_type": "stream",
     "text": [
      "  \n",
      "                    PRESS 1 -------- OOD EVEN GAME\n",
      "                    PRESS 2 -------- HIGHER LOWER GAME \n",
      "                    PRESS 3 -------- TWO DICE 🎲 GAME  \n",
      "                    PRESS 4 -------- FIVE DICE 🎲 GAME  2\n",
      "💸 Enter your bet amount (Available: 4500 Rs):  500\n"
     ]
    },
    {
     "name": "stdout",
     "output_type": "stream",
     "text": [
      "the number is ----------79\n"
     ]
    },
    {
     "name": "stdin",
     "output_type": "stream",
     "text": [
      "Enter your prediction next number is HIGHER------press 1️⃣  or LOWER --------- press 2️⃣  THAN 79 2\n"
     ]
    },
    {
     "name": "stdout",
     "output_type": "stream",
     "text": [
      "The Second number  is ----------53\n",
      "congratulations you won  \n",
      "your updated balnce is 5000\n"
     ]
    },
    {
     "name": "stdin",
     "output_type": "stream",
     "text": [
      "  \n",
      "                    PRESS 1 -------- OOD EVEN GAME\n",
      "                    PRESS 2 -------- HIGHER LOWER GAME \n",
      "                    PRESS 3 -------- TWO DICE 🎲 GAME  \n",
      "                    PRESS 4 -------- FIVE DICE 🎲 GAME  3\n",
      "💸 Enter your bet amount (Available: 5000 Rs):  500\n",
      "Enter your prediction sum of TWO DICE 🎲,  PRESS ------1️⃣   GREETER THAN [7], PRESS ------2️⃣  LESS THAN [7]  ,   AND  PRESS ------3️⃣    EXACT [7]  2\n"
     ]
    },
    {
     "name": "stdout",
     "output_type": "stream",
     "text": [
      "        Rolling  a DICE 🎲 \n",
      "the first number is ----------3\n",
      "the second number is ----------1\n",
      "the sum of number is ----------4\n",
      "congratulations you won \n",
      "your updated balnce is 5500\n"
     ]
    },
    {
     "name": "stdin",
     "output_type": "stream",
     "text": [
      "  \n",
      "                    PRESS 1 -------- OOD EVEN GAME\n",
      "                    PRESS 2 -------- HIGHER LOWER GAME \n",
      "                    PRESS 3 -------- TWO DICE 🎲 GAME  \n",
      "                    PRESS 4 -------- FIVE DICE 🎲 GAME  4\n",
      "💸 Enter your bet amount (Available: 5500 Rs):  500\n"
     ]
    },
    {
     "name": "stdout",
     "output_type": "stream",
     "text": [
      "16\n",
      " ROLLING A DICE -------------------- SUM OF FIVE DICE 🎲 GREATER THAN 18 YOU WIN 🏆 AND SUM IS LESS THAN 18 YOU LOSE  \n",
      "OPPS YOU LOSS BETTER LUCK\n",
      "your updated balnce is 5000\n",
      " 💰 Your balance Is 5000\n"
     ]
    }
   ],
   "source": [
    "# Main code \n",
    "\n",
    "import random as r \n",
    "\n",
    "X = int(input(\"DEPOSIT YPUR MONEY {MINIMUM 1000rs REQUIRE }\"))\n",
    "money = X\n",
    "if money<1000:             \n",
    "    print(\"REQUIRE MORE  THAN 1000rs TO DEPOSIT 💸\")\n",
    "else:\n",
    "        try:                                                          \n",
    "            for i in range(4):\n",
    "                game = int(input('''  \n",
    "                    PRESS 1 -------- OOD EVEN GAME\n",
    "                    PRESS 2 -------- HIGHER LOWER GAME \n",
    "                    PRESS 3 -------- TWO DICE 🎲 GAME  \n",
    "                    PRESS 4 -------- FIVE DICE 🎲 GAME '''))\n",
    "                if game==1:\n",
    "                    money = ODD_EVEN_GAME(money)\n",
    "                elif game ==2:\n",
    "                    money = HIGHER_LOWER_GAME(money)\n",
    "                elif game == 3:\n",
    "                    money = TWO_DICE_GAME(money)\n",
    "                elif game ==4:\n",
    "                    money = FIVE_DICE_GAME(money)\n",
    "                else :\n",
    "                    print(\"Please Enter a valid game number \")\n",
    "                if money <= 0:                                           # DEPOSIT MONEY IS 0 EXIT GAME \n",
    "                    print(\"Insufficient Balance Plase Deposit  MONEY\")\n",
    "                    break\n",
    "        except ValueError:\n",
    "            print(\"Invalid input. Please enter a number\")\n",
    "print(f\" 💰 Your balance Is {money}\")"
   ]
  },
  {
   "cell_type": "code",
   "execution_count": null,
   "id": "42be3fe3-d95e-4887-b157-c931b3646dd4",
   "metadata": {},
   "outputs": [],
   "source": []
  }
 ],
 "metadata": {
  "kernelspec": {
   "display_name": "Python 3 (ipykernel)",
   "language": "python",
   "name": "python3"
  },
  "language_info": {
   "codemirror_mode": {
    "name": "ipython",
    "version": 3
   },
   "file_extension": ".py",
   "mimetype": "text/x-python",
   "name": "python",
   "nbconvert_exporter": "python",
   "pygments_lexer": "ipython3",
   "version": "3.12.4"
  }
 },
 "nbformat": 4,
 "nbformat_minor": 5
}
